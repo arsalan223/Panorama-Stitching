{
 "cells": [
  {
   "cell_type": "code",
   "execution_count": 26,
   "metadata": {},
   "outputs": [],
   "source": [
    "import cv2 as cv"
   ]
  },
  {
   "cell_type": "code",
   "execution_count": 56,
   "metadata": {},
   "outputs": [
    {
     "name": "stdout",
     "output_type": "stream",
     "text": [
      "0\n"
     ]
    }
   ],
   "source": [
    "img1 = cv.imread('1.jpg')\n",
    "img1 = cv.resize(img1, (1024, 768), interpolation=cv.INTER_AREA) #resize / reduce image size\n",
    "img2 = cv.imread('2.jpg')\n",
    "img2 = cv.resize(img2, (1024, 768), interpolation=cv.INTER_AREA)\n",
    "img3 = cv.imread('3.jpg')\n",
    "img3 = cv.resize(img3, (1024, 768), interpolation=cv.INTER_AREA)\n",
    "# img4 = cv.imread('4.jpg')\n",
    "# img4 = cv.resize(img4, (1024, 768), interpolation=cv.INTER_AREA)\n",
    "# img5 = cv.imread('5.jpg')\n",
    "# img5 = cv.resize(img5, (1024, 768), interpolation=cv.INTER_AREA) #resize / reduce image size\n",
    "# img6 = cv.imread('6.jpg')\n",
    "# img6 = cv.resize(img6, (1024, 768), interpolation=cv.INTER_AREA)\n",
    "# img7 = cv.imread('7.jpg')\n",
    "# img7 = cv.resize(img7, (1024, 768), interpolation=cv.INTER_AREA)\n",
    "# img8 = cv.imread('8.jpg')\n",
    "# img8 = cv.resize(img8, (1024, 768), interpolation=cv.INTER_AREA)\n",
    "# img9 = cv.imread('9.jpg')\n",
    "# img9 = cv.resize(img9, (1024, 768), interpolation=cv.INTER_AREA) #resize / reduce image size\n",
    "# img10 = cv.imread('10.jpg')\n",
    "# img10 = cv.resize(img10, (1024, 768), interpolation=cv.INTER_AREA)\n",
    "# img11 = cv.imread('11.jpg')\n",
    "# img11 = cv.resize(img11, (1024, 768), interpolation=cv.INTER_AREA)\n",
    "# img12 = cv.imread('12.jpg')\n",
    "# img12 = cv.resize(img12, (1024, 768), interpolation=cv.INTER_AREA)\n",
    "# img13 = cv.imread('13.jpg')\n",
    "# img13 = cv.resize(img13, (1024, 768), interpolation=cv.INTER_AREA) #resize / reduce image size\n",
    "# img14 = cv.imread('14.jpg')\n",
    "# img14 = cv.resize(img14, (1024, 768), interpolation=cv.INTER_AREA)\n",
    "\n",
    "stitcher = cv.Stitcher_create() #creating stitcher object\n",
    "\n",
    "check, pano = stitcher.stitch(( img1, img2, img3)) #will stitch given images & return 'check' and 'Panorama'. check=0 (success in stitching), check=1 (no stitching)\n",
    "print(ret)"
   ]
  },
  {
   "cell_type": "code",
   "execution_count": 51,
   "metadata": {},
   "outputs": [],
   "source": [
    "cv.imshow('stitched', pano)\n",
    "cv.waitKey(0)\n",
    "cv.destroyAllWindows()"
   ]
  },
  {
   "cell_type": "code",
   "execution_count": 57,
   "metadata": {},
   "outputs": [
    {
     "data": {
      "text/plain": [
       "True"
      ]
     },
     "execution_count": 57,
     "metadata": {},
     "output_type": "execute_result"
    }
   ],
   "source": [
    "cv.imwrite('stitched1.jpg', pano)"
   ]
  },
  {
   "cell_type": "code",
   "execution_count": 8,
   "metadata": {},
   "outputs": [],
   "source": [
    "ret, pano2 = stitcher.stitch((img1, img2, img3))"
   ]
  },
  {
   "cell_type": "code",
   "execution_count": 25,
   "metadata": {},
   "outputs": [
    {
     "data": {
      "text/plain": [
       "True"
      ]
     },
     "execution_count": 25,
     "metadata": {},
     "output_type": "execute_result"
    }
   ],
   "source": [
    "cv.imwrite('img11.jpg', img1)\n",
    "cv.imwrite('img22.jpg', img2)"
   ]
  },
  {
   "cell_type": "code",
   "execution_count": 10,
   "metadata": {},
   "outputs": [
    {
     "data": {
      "text/plain": [
       "0"
      ]
     },
     "execution_count": 10,
     "metadata": {},
     "output_type": "execute_result"
    }
   ],
   "source": [
    "cv.STITCHER_OK"
   ]
  },
  {
   "cell_type": "code",
   "execution_count": 11,
   "metadata": {},
   "outputs": [
    {
     "data": {
      "text/plain": [
       "0"
      ]
     },
     "execution_count": 11,
     "metadata": {},
     "output_type": "execute_result"
    }
   ],
   "source": [
    "ret"
   ]
  },
  {
   "cell_type": "code",
   "execution_count": null,
   "metadata": {},
   "outputs": [],
   "source": []
  }
 ],
 "metadata": {
  "kernelspec": {
   "display_name": "Python 3",
   "language": "python",
   "name": "python3"
  },
  "language_info": {
   "codemirror_mode": {
    "name": "ipython",
    "version": 3
   },
   "file_extension": ".py",
   "mimetype": "text/x-python",
   "name": "python",
   "nbconvert_exporter": "python",
   "pygments_lexer": "ipython3",
   "version": "3.8.1"
  }
 },
 "nbformat": 4,
 "nbformat_minor": 4
}
